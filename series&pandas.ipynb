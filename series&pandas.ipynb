{
  "nbformat": 4,
  "nbformat_minor": 0,
  "metadata": {
    "colab": {
      "name": "series&pandas.ipynb",
      "provenance": [],
      "collapsed_sections": [],
      "authorship_tag": "ABX9TyPyU8LOP9NmfpIDBNgHhNAj",
      "include_colab_link": true
    },
    "kernelspec": {
      "name": "python3",
      "display_name": "Python 3"
    },
    "language_info": {
      "name": "python"
    }
  },
  "cells": [
    {
      "cell_type": "markdown",
      "metadata": {
        "id": "view-in-github",
        "colab_type": "text"
      },
      "source": [
        "<a href=\"https://colab.research.google.com/github/victor048/series-pandas/blob/main/series%26pandas.ipynb\" target=\"_parent\"><img src=\"https://colab.research.google.com/assets/colab-badge.svg\" alt=\"Open In Colab\"/></a>"
      ]
    },
    {
      "cell_type": "code",
      "metadata": {
        "id": "WPbhmWIgzzi7"
      },
      "source": [
        "import pandas as pd\n",
        "import numpy as np"
      ],
      "execution_count": null,
      "outputs": []
    },
    {
      "cell_type": "code",
      "metadata": {
        "id": "Dy1RTvam0KZX"
      },
      "source": [
        "data = np.array(['l','i','v','e'])"
      ],
      "execution_count": null,
      "outputs": []
    },
    {
      "cell_type": "code",
      "metadata": {
        "colab": {
          "base_uri": "https://localhost:8080/"
        },
        "id": "ETITZSeP2sOX",
        "outputId": "4ad47b17-59dc-4091-8ad6-8191a4d291b5"
      },
      "source": [
        "data"
      ],
      "execution_count": null,
      "outputs": [
        {
          "output_type": "execute_result",
          "data": {
            "text/plain": [
              "array(['l', 'i', 'v', 'e'], dtype='<U1')"
            ]
          },
          "metadata": {
            "tags": []
          },
          "execution_count": 4
        }
      ]
    },
    {
      "cell_type": "code",
      "metadata": {
        "colab": {
          "base_uri": "https://localhost:8080/"
        },
        "id": "7_jJe6-t2wB7",
        "outputId": "3475e0a0-ad47-4c39-a82d-ec920c389abe"
      },
      "source": [
        "ser = pd.Series(data)\n",
        "ser"
      ],
      "execution_count": null,
      "outputs": [
        {
          "output_type": "execute_result",
          "data": {
            "text/plain": [
              "0    l\n",
              "1    i\n",
              "2    v\n",
              "3    e\n",
              "dtype: object"
            ]
          },
          "metadata": {
            "tags": []
          },
          "execution_count": 7
        }
      ]
    },
    {
      "cell_type": "code",
      "metadata": {
        "colab": {
          "base_uri": "https://localhost:8080/"
        },
        "id": "b5FiIYPS3wOv",
        "outputId": "c22fa615-e2b2-41e2-dc87-27b8458db2b1"
      },
      "source": [
        "type(ser)"
      ],
      "execution_count": null,
      "outputs": [
        {
          "output_type": "execute_result",
          "data": {
            "text/plain": [
              "pandas.core.series.Series"
            ]
          },
          "metadata": {
            "tags": []
          },
          "execution_count": 8
        }
      ]
    },
    {
      "cell_type": "code",
      "metadata": {
        "colab": {
          "base_uri": "https://localhost:8080/"
        },
        "id": "Dsu-STxi3xps",
        "outputId": "0934e19b-3288-4946-dedd-91d9e1553b88"
      },
      "source": [
        "m3 =  pd.Series(np.random.randn(5), index=['A','B','C','D','E'])\n",
        "m3"
      ],
      "execution_count": null,
      "outputs": [
        {
          "output_type": "execute_result",
          "data": {
            "text/plain": [
              "A    0.592146\n",
              "B    0.170135\n",
              "C   -1.112828\n",
              "D    2.270665\n",
              "E    1.122533\n",
              "dtype: float64"
            ]
          },
          "metadata": {
            "tags": []
          },
          "execution_count": 9
        }
      ]
    },
    {
      "cell_type": "code",
      "metadata": {
        "id": "JZtlgcHd4slq"
      },
      "source": [
        "d = {'SP':'são paulo','RJ':'rio de janeiro','MG':'minas gerais'}"
      ],
      "execution_count": null,
      "outputs": []
    },
    {
      "cell_type": "code",
      "metadata": {
        "colab": {
          "base_uri": "https://localhost:8080/"
        },
        "id": "ZSY9uaoY6E9a",
        "outputId": "a34a9820-b991-4773-a7e4-367b7a5e2160"
      },
      "source": [
        "d"
      ],
      "execution_count": null,
      "outputs": [
        {
          "output_type": "execute_result",
          "data": {
            "text/plain": [
              "{'MG': 'minas gerais', 'RJ': 'rio de janeiro', 'SP': 'são paulo'}"
            ]
          },
          "metadata": {
            "tags": []
          },
          "execution_count": 11
        }
      ]
    },
    {
      "cell_type": "code",
      "metadata": {
        "colab": {
          "base_uri": "https://localhost:8080/"
        },
        "id": "_P3MmPI86HAp",
        "outputId": "0e45614a-58b8-45bf-fcee-842a63303cf5"
      },
      "source": [
        "ser_d = pd.Series(d)\n",
        "ser_d"
      ],
      "execution_count": null,
      "outputs": [
        {
          "output_type": "execute_result",
          "data": {
            "text/plain": [
              "SP         são paulo\n",
              "RJ    rio de janeiro\n",
              "MG      minas gerais\n",
              "dtype: object"
            ]
          },
          "metadata": {
            "tags": []
          },
          "execution_count": 13
        }
      ]
    },
    {
      "cell_type": "code",
      "metadata": {
        "id": "dDJuKh5k6O3P"
      },
      "source": [
        "d2 = {'SP':['são paulo','rio de janeiro','minas gerais'],'RJ':'rio de janeiro','MA':'maranhão'}"
      ],
      "execution_count": null,
      "outputs": []
    },
    {
      "cell_type": "code",
      "metadata": {
        "colab": {
          "base_uri": "https://localhost:8080/"
        },
        "id": "Ztkr7tLT8FQT",
        "outputId": "4320717f-6f69-478d-e0e8-d70e0bd00e98"
      },
      "source": [
        "d2"
      ],
      "execution_count": null,
      "outputs": [
        {
          "output_type": "execute_result",
          "data": {
            "text/plain": [
              "{'MA': 'maranhão',\n",
              " 'RJ': 'rio de janeiro',\n",
              " 'SP': ['são paulo', 'rio de janeiro', 'minas gerais']}"
            ]
          },
          "metadata": {
            "tags": []
          },
          "execution_count": 16
        }
      ]
    },
    {
      "cell_type": "code",
      "metadata": {
        "colab": {
          "base_uri": "https://localhost:8080/"
        },
        "id": "tnigPAKz8I9H",
        "outputId": "cbaea075-428b-4016-ed3b-9a03c8c250bd"
      },
      "source": [
        "ser_d2 = pd.Series(d2)\n",
        "ser_d2"
      ],
      "execution_count": null,
      "outputs": [
        {
          "output_type": "execute_result",
          "data": {
            "text/plain": [
              "SP    [são paulo, rio de janeiro, minas gerais]\n",
              "RJ                               rio de janeiro\n",
              "MA                                     maranhão\n",
              "dtype: object"
            ]
          },
          "metadata": {
            "tags": []
          },
          "execution_count": 17
        }
      ]
    },
    {
      "cell_type": "code",
      "metadata": {
        "id": "D6pmts2N8YKd"
      },
      "source": [
        "# DATAFRAME:"
      ],
      "execution_count": null,
      "outputs": []
    },
    {
      "cell_type": "code",
      "metadata": {
        "id": "pyzNz--Z88Bi"
      },
      "source": [
        "data_dict = {'NOMES':['VICTOR','LARISSA','JOSE'],\n",
        "             'SOBRENOME':['LACERDA','BARBOSA','RODIGO'],\n",
        "             'GENERO':['M','F','M']\n",
        "             }"
      ],
      "execution_count": null,
      "outputs": []
    },
    {
      "cell_type": "code",
      "metadata": {
        "colab": {
          "base_uri": "https://localhost:8080/",
          "height": 142
        },
        "id": "QyExeyDt-2Ju",
        "outputId": "0d65fc78-1930-4c1f-d1d5-f9b9812ea142"
      },
      "source": [
        "df = pd.DataFrame(data_dict, index=['A','B','C'])\n",
        "df"
      ],
      "execution_count": null,
      "outputs": [
        {
          "output_type": "execute_result",
          "data": {
            "text/html": [
              "<div>\n",
              "<style scoped>\n",
              "    .dataframe tbody tr th:only-of-type {\n",
              "        vertical-align: middle;\n",
              "    }\n",
              "\n",
              "    .dataframe tbody tr th {\n",
              "        vertical-align: top;\n",
              "    }\n",
              "\n",
              "    .dataframe thead th {\n",
              "        text-align: right;\n",
              "    }\n",
              "</style>\n",
              "<table border=\"1\" class=\"dataframe\">\n",
              "  <thead>\n",
              "    <tr style=\"text-align: right;\">\n",
              "      <th></th>\n",
              "      <th>NOMES</th>\n",
              "      <th>SOBRENOME</th>\n",
              "      <th>GENERO</th>\n",
              "    </tr>\n",
              "  </thead>\n",
              "  <tbody>\n",
              "    <tr>\n",
              "      <th>A</th>\n",
              "      <td>VICTOR</td>\n",
              "      <td>LACERDA</td>\n",
              "      <td>M</td>\n",
              "    </tr>\n",
              "    <tr>\n",
              "      <th>B</th>\n",
              "      <td>LARISSA</td>\n",
              "      <td>BARBOSA</td>\n",
              "      <td>F</td>\n",
              "    </tr>\n",
              "    <tr>\n",
              "      <th>C</th>\n",
              "      <td>JOSE</td>\n",
              "      <td>RODIGO</td>\n",
              "      <td>M</td>\n",
              "    </tr>\n",
              "  </tbody>\n",
              "</table>\n",
              "</div>"
            ],
            "text/plain": [
              "     NOMES SOBRENOME GENERO\n",
              "A   VICTOR   LACERDA      M\n",
              "B  LARISSA   BARBOSA      F\n",
              "C     JOSE    RODIGO      M"
            ]
          },
          "metadata": {
            "tags": []
          },
          "execution_count": 24
        }
      ]
    },
    {
      "cell_type": "code",
      "metadata": {
        "id": "a5Zdaf18_Pgu"
      },
      "source": [
        "data_list_tuple = [\n",
        "                   ('01-03-2021', 23,'Victor'),\n",
        "                   ('02-03-2020', 22, 'Larissa'),\n",
        "                   ('02-04-2020', 21, 'Jose')]"
      ],
      "execution_count": null,
      "outputs": []
    },
    {
      "cell_type": "code",
      "metadata": {
        "colab": {
          "base_uri": "https://localhost:8080/",
          "height": 142
        },
        "id": "bk5kjp8EAZku",
        "outputId": "eb2bdf62-3723-42cd-c0c7-adc5d9881133"
      },
      "source": [
        "df2 = pd.DataFrame(data_list_tuple, columns=['Data','Idade','Nome'])\n",
        "df2"
      ],
      "execution_count": null,
      "outputs": [
        {
          "output_type": "execute_result",
          "data": {
            "text/html": [
              "<div>\n",
              "<style scoped>\n",
              "    .dataframe tbody tr th:only-of-type {\n",
              "        vertical-align: middle;\n",
              "    }\n",
              "\n",
              "    .dataframe tbody tr th {\n",
              "        vertical-align: top;\n",
              "    }\n",
              "\n",
              "    .dataframe thead th {\n",
              "        text-align: right;\n",
              "    }\n",
              "</style>\n",
              "<table border=\"1\" class=\"dataframe\">\n",
              "  <thead>\n",
              "    <tr style=\"text-align: right;\">\n",
              "      <th></th>\n",
              "      <th>Data</th>\n",
              "      <th>Idade</th>\n",
              "      <th>Nome</th>\n",
              "    </tr>\n",
              "  </thead>\n",
              "  <tbody>\n",
              "    <tr>\n",
              "      <th>0</th>\n",
              "      <td>01-03-2021</td>\n",
              "      <td>23</td>\n",
              "      <td>Victor</td>\n",
              "    </tr>\n",
              "    <tr>\n",
              "      <th>1</th>\n",
              "      <td>02-03-2020</td>\n",
              "      <td>22</td>\n",
              "      <td>Larissa</td>\n",
              "    </tr>\n",
              "    <tr>\n",
              "      <th>2</th>\n",
              "      <td>02-04-2020</td>\n",
              "      <td>21</td>\n",
              "      <td>Jose</td>\n",
              "    </tr>\n",
              "  </tbody>\n",
              "</table>\n",
              "</div>"
            ],
            "text/plain": [
              "         Data  Idade     Nome\n",
              "0  01-03-2021     23   Victor\n",
              "1  02-03-2020     22  Larissa\n",
              "2  02-04-2020     21     Jose"
            ]
          },
          "metadata": {
            "tags": []
          },
          "execution_count": 28
        }
      ]
    },
    {
      "cell_type": "code",
      "metadata": {
        "colab": {
          "base_uri": "https://localhost:8080/"
        },
        "id": "28ZZN5okAoHg",
        "outputId": "910d2c5e-7862-4c91-87e0-e1637ef868fa"
      },
      "source": [
        "type(df2)"
      ],
      "execution_count": null,
      "outputs": [
        {
          "output_type": "execute_result",
          "data": {
            "text/plain": [
              "pandas.core.frame.DataFrame"
            ]
          },
          "metadata": {
            "tags": []
          },
          "execution_count": 29
        }
      ]
    },
    {
      "cell_type": "code",
      "metadata": {
        "id": "ZZ3gz-VqBOhn"
      },
      "source": [
        "df = pd.read_csv('/content/historical_data.csv')"
      ],
      "execution_count": null,
      "outputs": []
    },
    {
      "cell_type": "code",
      "metadata": {
        "colab": {
          "base_uri": "https://localhost:8080/",
          "height": 419
        },
        "id": "olui1lCiDj6_",
        "outputId": "f640a0c8-258f-4ef5-8ba6-4c7251883938"
      },
      "source": [
        "df"
      ],
      "execution_count": null,
      "outputs": [
        {
          "output_type": "execute_result",
          "data": {
            "text/html": [
              "<div>\n",
              "<style scoped>\n",
              "    .dataframe tbody tr th:only-of-type {\n",
              "        vertical-align: middle;\n",
              "    }\n",
              "\n",
              "    .dataframe tbody tr th {\n",
              "        vertical-align: top;\n",
              "    }\n",
              "\n",
              "    .dataframe thead th {\n",
              "        text-align: right;\n",
              "    }\n",
              "</style>\n",
              "<table border=\"1\" class=\"dataframe\">\n",
              "  <thead>\n",
              "    <tr style=\"text-align: right;\">\n",
              "      <th></th>\n",
              "      <th>Date</th>\n",
              "      <th>Close</th>\n",
              "      <th>Open</th>\n",
              "      <th>High</th>\n",
              "      <th>Low</th>\n",
              "      <th>Volume</th>\n",
              "      <th>Variation</th>\n",
              "    </tr>\n",
              "  </thead>\n",
              "  <tbody>\n",
              "    <tr>\n",
              "      <th>0</th>\n",
              "      <td>22-12-2000</td>\n",
              "      <td>10.26</td>\n",
              "      <td>10.38</td>\n",
              "      <td>10.90</td>\n",
              "      <td>10.05</td>\n",
              "      <td>531.07K</td>\n",
              "      <td>-1.16</td>\n",
              "    </tr>\n",
              "    <tr>\n",
              "      <th>1</th>\n",
              "      <td>26-12-2000</td>\n",
              "      <td>10.18</td>\n",
              "      <td>10.18</td>\n",
              "      <td>10.26</td>\n",
              "      <td>10.05</td>\n",
              "      <td>202.79K</td>\n",
              "      <td>-0.78</td>\n",
              "    </tr>\n",
              "    <tr>\n",
              "      <th>2</th>\n",
              "      <td>27-12-2000</td>\n",
              "      <td>10.26</td>\n",
              "      <td>10.18</td>\n",
              "      <td>10.37</td>\n",
              "      <td>9.97</td>\n",
              "      <td>450.69K</td>\n",
              "      <td>0.79</td>\n",
              "    </tr>\n",
              "    <tr>\n",
              "      <th>3</th>\n",
              "      <td>28-12-2000</td>\n",
              "      <td>10.43</td>\n",
              "      <td>10.31</td>\n",
              "      <td>10.43</td>\n",
              "      <td>9.97</td>\n",
              "      <td>962.21K</td>\n",
              "      <td>1.66</td>\n",
              "    </tr>\n",
              "    <tr>\n",
              "      <th>4</th>\n",
              "      <td>02-01-2001</td>\n",
              "      <td>10.98</td>\n",
              "      <td>10.15</td>\n",
              "      <td>10.98</td>\n",
              "      <td>10.15</td>\n",
              "      <td>939.17K</td>\n",
              "      <td>5.27</td>\n",
              "    </tr>\n",
              "    <tr>\n",
              "      <th>...</th>\n",
              "      <td>...</td>\n",
              "      <td>...</td>\n",
              "      <td>...</td>\n",
              "      <td>...</td>\n",
              "      <td>...</td>\n",
              "      <td>...</td>\n",
              "      <td>...</td>\n",
              "    </tr>\n",
              "    <tr>\n",
              "      <th>4985</th>\n",
              "      <td>22-02-2021</td>\n",
              "      <td>12.48</td>\n",
              "      <td>11.20</td>\n",
              "      <td>12.77</td>\n",
              "      <td>11.11</td>\n",
              "      <td>36.29M</td>\n",
              "      <td>7.40</td>\n",
              "    </tr>\n",
              "    <tr>\n",
              "      <th>4986</th>\n",
              "      <td>23-02-2021</td>\n",
              "      <td>12.35</td>\n",
              "      <td>12.68</td>\n",
              "      <td>12.68</td>\n",
              "      <td>11.67</td>\n",
              "      <td>21.37M</td>\n",
              "      <td>-1.04</td>\n",
              "    </tr>\n",
              "    <tr>\n",
              "      <th>4987</th>\n",
              "      <td>24-02-2021</td>\n",
              "      <td>13.10</td>\n",
              "      <td>12.44</td>\n",
              "      <td>13.33</td>\n",
              "      <td>12.20</td>\n",
              "      <td>25.17M</td>\n",
              "      <td>6.07</td>\n",
              "    </tr>\n",
              "    <tr>\n",
              "      <th>4988</th>\n",
              "      <td>25-02-2021</td>\n",
              "      <td>12.27</td>\n",
              "      <td>13.07</td>\n",
              "      <td>13.22</td>\n",
              "      <td>12.21</td>\n",
              "      <td>21.11M</td>\n",
              "      <td>-6.34</td>\n",
              "    </tr>\n",
              "    <tr>\n",
              "      <th>4989</th>\n",
              "      <td>26-02-2021</td>\n",
              "      <td>12.23</td>\n",
              "      <td>12.31</td>\n",
              "      <td>12.42</td>\n",
              "      <td>11.79</td>\n",
              "      <td>17.92M</td>\n",
              "      <td>-0.33</td>\n",
              "    </tr>\n",
              "  </tbody>\n",
              "</table>\n",
              "<p>4990 rows × 7 columns</p>\n",
              "</div>"
            ],
            "text/plain": [
              "            Date  Close   Open   High    Low   Volume  Variation\n",
              "0     22-12-2000  10.26  10.38  10.90  10.05  531.07K      -1.16\n",
              "1     26-12-2000  10.18  10.18  10.26  10.05  202.79K      -0.78\n",
              "2     27-12-2000  10.26  10.18  10.37   9.97  450.69K       0.79\n",
              "3     28-12-2000  10.43  10.31  10.43   9.97  962.21K       1.66\n",
              "4     02-01-2001  10.98  10.15  10.98  10.15  939.17K       5.27\n",
              "...          ...    ...    ...    ...    ...      ...        ...\n",
              "4985  22-02-2021  12.48  11.20  12.77  11.11   36.29M       7.40\n",
              "4986  23-02-2021  12.35  12.68  12.68  11.67   21.37M      -1.04\n",
              "4987  24-02-2021  13.10  12.44  13.33  12.20   25.17M       6.07\n",
              "4988  25-02-2021  12.27  13.07  13.22  12.21   21.11M      -6.34\n",
              "4989  26-02-2021  12.23  12.31  12.42  11.79   17.92M      -0.33\n",
              "\n",
              "[4990 rows x 7 columns]"
            ]
          },
          "metadata": {
            "tags": []
          },
          "execution_count": 33
        }
      ]
    },
    {
      "cell_type": "code",
      "metadata": {
        "colab": {
          "base_uri": "https://localhost:8080/"
        },
        "id": "7mEYnDvfDmu5",
        "outputId": "195e945c-3ca2-41cf-ef26-e53bbae92fb9"
      },
      "source": [
        "df.info()"
      ],
      "execution_count": null,
      "outputs": [
        {
          "output_type": "stream",
          "text": [
            "<class 'pandas.core.frame.DataFrame'>\n",
            "RangeIndex: 4990 entries, 0 to 4989\n",
            "Data columns (total 7 columns):\n",
            " #   Column     Non-Null Count  Dtype  \n",
            "---  ------     --------------  -----  \n",
            " 0   Date       4990 non-null   object \n",
            " 1   Close      4990 non-null   float64\n",
            " 2   Open       4990 non-null   float64\n",
            " 3   High       4990 non-null   float64\n",
            " 4   Low        4990 non-null   float64\n",
            " 5   Volume     4990 non-null   object \n",
            " 6   Variation  4990 non-null   float64\n",
            "dtypes: float64(5), object(2)\n",
            "memory usage: 273.0+ KB\n"
          ],
          "name": "stdout"
        }
      ]
    },
    {
      "cell_type": "code",
      "metadata": {
        "colab": {
          "base_uri": "https://localhost:8080/",
          "height": 297
        },
        "id": "knb-7xse-C0Z",
        "outputId": "674754f3-66de-4542-d976-b8e594978624"
      },
      "source": [
        "df.describe()"
      ],
      "execution_count": null,
      "outputs": [
        {
          "output_type": "execute_result",
          "data": {
            "text/html": [
              "<div>\n",
              "<style scoped>\n",
              "    .dataframe tbody tr th:only-of-type {\n",
              "        vertical-align: middle;\n",
              "    }\n",
              "\n",
              "    .dataframe tbody tr th {\n",
              "        vertical-align: top;\n",
              "    }\n",
              "\n",
              "    .dataframe thead th {\n",
              "        text-align: right;\n",
              "    }\n",
              "</style>\n",
              "<table border=\"1\" class=\"dataframe\">\n",
              "  <thead>\n",
              "    <tr style=\"text-align: right;\">\n",
              "      <th></th>\n",
              "      <th>Close</th>\n",
              "      <th>Open</th>\n",
              "      <th>High</th>\n",
              "      <th>Low</th>\n",
              "      <th>Variation</th>\n",
              "    </tr>\n",
              "  </thead>\n",
              "  <tbody>\n",
              "    <tr>\n",
              "      <th>count</th>\n",
              "      <td>4990.000000</td>\n",
              "      <td>4990.000000</td>\n",
              "      <td>4990.000000</td>\n",
              "      <td>4990.000000</td>\n",
              "      <td>4990.000000</td>\n",
              "    </tr>\n",
              "    <tr>\n",
              "      <th>mean</th>\n",
              "      <td>14.963180</td>\n",
              "      <td>14.979377</td>\n",
              "      <td>15.212719</td>\n",
              "      <td>14.711693</td>\n",
              "      <td>0.036735</td>\n",
              "    </tr>\n",
              "    <tr>\n",
              "      <th>std</th>\n",
              "      <td>5.050776</td>\n",
              "      <td>5.050885</td>\n",
              "      <td>5.105678</td>\n",
              "      <td>4.992045</td>\n",
              "      <td>2.580234</td>\n",
              "    </tr>\n",
              "    <tr>\n",
              "      <th>min</th>\n",
              "      <td>5.110000</td>\n",
              "      <td>5.150000</td>\n",
              "      <td>5.300000</td>\n",
              "      <td>4.880000</td>\n",
              "      <td>-26.440000</td>\n",
              "    </tr>\n",
              "    <tr>\n",
              "      <th>25%</th>\n",
              "      <td>10.930000</td>\n",
              "      <td>10.942500</td>\n",
              "      <td>11.140000</td>\n",
              "      <td>10.740000</td>\n",
              "      <td>-1.270000</td>\n",
              "    </tr>\n",
              "    <tr>\n",
              "      <th>50%</th>\n",
              "      <td>14.660000</td>\n",
              "      <td>14.690000</td>\n",
              "      <td>14.900000</td>\n",
              "      <td>14.360000</td>\n",
              "      <td>0.000000</td>\n",
              "    </tr>\n",
              "    <tr>\n",
              "      <th>75%</th>\n",
              "      <td>18.650000</td>\n",
              "      <td>18.670000</td>\n",
              "      <td>18.910000</td>\n",
              "      <td>18.420000</td>\n",
              "      <td>1.320000</td>\n",
              "    </tr>\n",
              "    <tr>\n",
              "      <th>max</th>\n",
              "      <td>30.360000</td>\n",
              "      <td>30.490000</td>\n",
              "      <td>30.770000</td>\n",
              "      <td>30.050000</td>\n",
              "      <td>22.490000</td>\n",
              "    </tr>\n",
              "  </tbody>\n",
              "</table>\n",
              "</div>"
            ],
            "text/plain": [
              "             Close         Open         High          Low    Variation\n",
              "count  4990.000000  4990.000000  4990.000000  4990.000000  4990.000000\n",
              "mean     14.963180    14.979377    15.212719    14.711693     0.036735\n",
              "std       5.050776     5.050885     5.105678     4.992045     2.580234\n",
              "min       5.110000     5.150000     5.300000     4.880000   -26.440000\n",
              "25%      10.930000    10.942500    11.140000    10.740000    -1.270000\n",
              "50%      14.660000    14.690000    14.900000    14.360000     0.000000\n",
              "75%      18.650000    18.670000    18.910000    18.420000     1.320000\n",
              "max      30.360000    30.490000    30.770000    30.050000    22.490000"
            ]
          },
          "metadata": {
            "tags": []
          },
          "execution_count": 35
        }
      ]
    },
    {
      "cell_type": "code",
      "metadata": {
        "colab": {
          "base_uri": "https://localhost:8080/"
        },
        "id": "fe9rrJlEEb1w",
        "outputId": "a976d9a5-31a8-4c1a-8bbe-81a960ce0665"
      },
      "source": [
        "# Renomeando minhas colunas\n",
        "df.columns"
      ],
      "execution_count": null,
      "outputs": [
        {
          "output_type": "execute_result",
          "data": {
            "text/plain": [
              "Index(['Date', 'Close', 'Open', 'High', 'Low', 'Volume', 'Variation'], dtype='object')"
            ]
          },
          "metadata": {
            "tags": []
          },
          "execution_count": 37
        }
      ]
    },
    {
      "cell_type": "code",
      "metadata": {
        "id": "f5DDJ4uLNpd5"
      },
      "source": [
        "df.rename(columns={'Date':'Data', 'Close':'Fechamento', 'Open':'Abertura', 'High':'Maior', 'Low':'Menor','Variation':'variação'}, inplace=True)"
      ],
      "execution_count": null,
      "outputs": []
    },
    {
      "cell_type": "code",
      "metadata": {
        "colab": {
          "base_uri": "https://localhost:8080/",
          "height": 204
        },
        "id": "837TS7kEPFwq",
        "outputId": "7a4fa7ed-7ecd-47db-f7fb-b7ae0fe5f043"
      },
      "source": [
        "df.head()"
      ],
      "execution_count": null,
      "outputs": [
        {
          "output_type": "execute_result",
          "data": {
            "text/html": [
              "<div>\n",
              "<style scoped>\n",
              "    .dataframe tbody tr th:only-of-type {\n",
              "        vertical-align: middle;\n",
              "    }\n",
              "\n",
              "    .dataframe tbody tr th {\n",
              "        vertical-align: top;\n",
              "    }\n",
              "\n",
              "    .dataframe thead th {\n",
              "        text-align: right;\n",
              "    }\n",
              "</style>\n",
              "<table border=\"1\" class=\"dataframe\">\n",
              "  <thead>\n",
              "    <tr style=\"text-align: right;\">\n",
              "      <th></th>\n",
              "      <th>Data</th>\n",
              "      <th>Fechamento</th>\n",
              "      <th>Abertura</th>\n",
              "      <th>Maior</th>\n",
              "      <th>Menor</th>\n",
              "      <th>Volume</th>\n",
              "      <th>variação</th>\n",
              "    </tr>\n",
              "  </thead>\n",
              "  <tbody>\n",
              "    <tr>\n",
              "      <th>0</th>\n",
              "      <td>22-12-2000</td>\n",
              "      <td>10.26</td>\n",
              "      <td>10.38</td>\n",
              "      <td>10.90</td>\n",
              "      <td>10.05</td>\n",
              "      <td>531.07K</td>\n",
              "      <td>-1.16</td>\n",
              "    </tr>\n",
              "    <tr>\n",
              "      <th>1</th>\n",
              "      <td>26-12-2000</td>\n",
              "      <td>10.18</td>\n",
              "      <td>10.18</td>\n",
              "      <td>10.26</td>\n",
              "      <td>10.05</td>\n",
              "      <td>202.79K</td>\n",
              "      <td>-0.78</td>\n",
              "    </tr>\n",
              "    <tr>\n",
              "      <th>2</th>\n",
              "      <td>27-12-2000</td>\n",
              "      <td>10.26</td>\n",
              "      <td>10.18</td>\n",
              "      <td>10.37</td>\n",
              "      <td>9.97</td>\n",
              "      <td>450.69K</td>\n",
              "      <td>0.79</td>\n",
              "    </tr>\n",
              "    <tr>\n",
              "      <th>3</th>\n",
              "      <td>28-12-2000</td>\n",
              "      <td>10.43</td>\n",
              "      <td>10.31</td>\n",
              "      <td>10.43</td>\n",
              "      <td>9.97</td>\n",
              "      <td>962.21K</td>\n",
              "      <td>1.66</td>\n",
              "    </tr>\n",
              "    <tr>\n",
              "      <th>4</th>\n",
              "      <td>02-01-2001</td>\n",
              "      <td>10.98</td>\n",
              "      <td>10.15</td>\n",
              "      <td>10.98</td>\n",
              "      <td>10.15</td>\n",
              "      <td>939.17K</td>\n",
              "      <td>5.27</td>\n",
              "    </tr>\n",
              "  </tbody>\n",
              "</table>\n",
              "</div>"
            ],
            "text/plain": [
              "         Data  Fechamento  Abertura  Maior  Menor   Volume  variação\n",
              "0  22-12-2000       10.26     10.38  10.90  10.05  531.07K     -1.16\n",
              "1  26-12-2000       10.18     10.18  10.26  10.05  202.79K     -0.78\n",
              "2  27-12-2000       10.26     10.18  10.37   9.97  450.69K      0.79\n",
              "3  28-12-2000       10.43     10.31  10.43   9.97  962.21K      1.66\n",
              "4  02-01-2001       10.98     10.15  10.98  10.15  939.17K      5.27"
            ]
          },
          "metadata": {
            "tags": []
          },
          "execution_count": 44
        }
      ]
    },
    {
      "cell_type": "code",
      "metadata": {
        "id": "fqMpgAAkPNsP"
      },
      "source": [
        ""
      ],
      "execution_count": null,
      "outputs": []
    }
  ]
}